{
 "cells": [
  {
   "cell_type": "markdown",
   "id": "b096a3f3",
   "metadata": {},
   "source": [
    "# Te damos la bienvenida a tu código en colab\n",
    "\n",
    "Este archivo tiene el propósito de enseñarte algunas funcionalidades básicas del lenguaje de programación python y su ejecución en colab."
   ]
  },
  {
   "cell_type": "code",
   "execution_count": 1,
   "id": "ce40211c",
   "metadata": {},
   "outputs": [
    {
     "name": "stdout",
     "output_type": "stream",
     "text": [
      "Hola mundo\n"
     ]
    }
   ],
   "source": [
    "#las secciones con un (#) que estan en gris son secciones comentadas, lo que indica que las secciones seran omitidas \n",
    "#en la ejecuccion del codigo \n",
    "\n",
    "#para ejecutar este comando presiona ctrl+enter, shift+enter o en la esquina superior izquierda de este bloque presiona el boton de ejecucción \n",
    "\n",
    "#este comando es un mensaje en pantalla, su funcionalidad es mostrarnos resultados o textos\n",
    "print(\"Hola mundo\")"
   ]
  },
  {
   "cell_type": "code",
   "execution_count": 2,
   "id": "0607e144",
   "metadata": {},
   "outputs": [
    {
     "name": "stdout",
     "output_type": "stream",
     "text": [
      "2\n",
      "-------------------------------\n",
      "Hola\n"
     ]
    }
   ],
   "source": [
    "# en python podemos disponer de espacios en memoria para almacenar datos\n",
    "#este codigo define una variable a y le asigna el valor 2\n",
    "#el valor de a se almacenara por el resto del código incluso fuera de esta celda y solo se cambiara si es modificada \n",
    "a = 2\n",
    "print(a)\n",
    "\n",
    "print(\"-------------------------------\")\n",
    "#los elementos de una variable tambien pueden ser textos \n",
    "b = \"Hola\"\n",
    "print(b)"
   ]
  },
  {
   "cell_type": "code",
   "execution_count": 3,
   "id": "100fb11a",
   "metadata": {},
   "outputs": [
    {
     "name": "stdout",
     "output_type": "stream",
     "text": [
      "3\n"
     ]
    }
   ],
   "source": [
    "# se puede realizar operaciones con las variables \n",
    "print(a + 1)"
   ]
  },
  {
   "cell_type": "code",
   "execution_count": 4,
   "id": "11ef8c03",
   "metadata": {},
   "outputs": [
    {
     "name": "stdout",
     "output_type": "stream",
     "text": [
      "HolaHolaHolaHolaHola\n"
     ]
    }
   ],
   "source": [
    "# incluso entre variable que almacenan texto \n",
    "# este comando repite un texto 5 veces\n",
    "print(b*5)"
   ]
  },
  {
   "cell_type": "code",
   "execution_count": 5,
   "id": "484bb314",
   "metadata": {},
   "outputs": [
    {
     "name": "stdout",
     "output_type": "stream",
     "text": [
      "[1, 2, 3, 4, 5, 6, 7, 8, 9, 10]\n",
      "---------------------\n",
      "[1, 2, 3, 4, 5, 6, 7, 8, 9, 10]\n"
     ]
    }
   ],
   "source": [
    "# una variable tambien puede ser una lista\n",
    "c = [1,2,3,4,5,6,7,8,9,10]\n",
    "print(c)\n",
    "print(\"---------------------\")\n",
    "#otra forma de hacer lo anterior es \n",
    "print(list(range(1,11)))"
   ]
  },
  {
   "cell_type": "code",
   "execution_count": 6,
   "id": "59232282",
   "metadata": {},
   "outputs": [
    {
     "data": {
      "text/plain": [
       "[1, 2, 3, 4, 5, 6, 7, 8, 9, 10, 1, 2, 3, 4, 5, 6, 7, 8, 9, 10]"
      ]
     },
     "execution_count": 6,
     "metadata": {},
     "output_type": "execute_result"
    }
   ],
   "source": [
    "# podemos concatenar listar usando el comando mas(+)\n",
    "c = list(range(1,11,1))\n",
    "c+c"
   ]
  },
  {
   "cell_type": "code",
   "execution_count": 7,
   "id": "9f58e331",
   "metadata": {},
   "outputs": [
    {
     "data": {
      "text/plain": [
       "(1, 2)"
      ]
     },
     "execution_count": 7,
     "metadata": {},
     "output_type": "execute_result"
    }
   ],
   "source": [
    "c[0],c[1]"
   ]
  },
  {
   "cell_type": "code",
   "execution_count": 8,
   "id": "3412bf7d",
   "metadata": {},
   "outputs": [
    {
     "name": "stdout",
     "output_type": "stream",
     "text": [
      "[1, 2, 3, 4, 5, 6, 7, 8, 9, 10, 11] 11\n"
     ]
    }
   ],
   "source": [
    "c.append(11)\n",
    "print(c,c[10])"
   ]
  },
  {
   "cell_type": "code",
   "execution_count": 9,
   "id": "371e0885",
   "metadata": {},
   "outputs": [
    {
     "name": "stdout",
     "output_type": "stream",
     "text": [
      "[1, 2, 3, 4, 5, 6, 7, 8, 9, 10]\n"
     ]
    }
   ],
   "source": [
    "c.pop(10)\n",
    "print(c)"
   ]
  },
  {
   "cell_type": "markdown",
   "id": "aec8bfec",
   "metadata": {},
   "source": [
    "## Algunas estructuras de control\n",
    "\n",
    "\n",
    "Las estructuras de control son comandos que permiten especificar el flujo en las instrucciones de un programa, como por ejemplo, repetir acciones o ejecutar condiciones "
   ]
  },
  {
   "cell_type": "markdown",
   "id": "9f56f394",
   "metadata": {},
   "source": [
    "### Bucle for "
   ]
  },
  {
   "cell_type": "code",
   "execution_count": 10,
   "id": "5962c0e1",
   "metadata": {},
   "outputs": [
    {
     "name": "stdout",
     "output_type": "stream",
     "text": [
      "Hola mundo\n",
      "Hola mundo\n",
      "Hola mundo\n",
      "Hola mundo\n",
      "Hola mundo\n",
      "Hola mundo\n",
      "Hola mundo\n",
      "Hola mundo\n",
      "Hola mundo\n",
      "Hola mundo\n"
     ]
    }
   ],
   "source": [
    "# los bucles son comandos que permiten ejecutar una accion repetidas veces\n",
    "\n",
    "#este comando permite mostrar el comando \"Hola mundo\" 10 veces\n",
    "for i in range(10):\n",
    "    print(\"Hola mundo\")"
   ]
  },
  {
   "cell_type": "code",
   "execution_count": 11,
   "id": "ba0a9655",
   "metadata": {},
   "outputs": [
    {
     "name": "stdout",
     "output_type": "stream",
     "text": [
      "0\n",
      "1\n",
      "2\n",
      "3\n",
      "4\n",
      "5\n",
      "6\n",
      "7\n",
      "8\n",
      "9\n"
     ]
    }
   ],
   "source": [
    "#ademas, los bucles son utiles para realizar conteos. El siguiente codigo muestra los numeros del 0 al 9\n",
    "for i in range(10):\n",
    "    print(i)"
   ]
  },
  {
   "cell_type": "code",
   "execution_count": 12,
   "id": "12fa1ea1",
   "metadata": {},
   "outputs": [
    {
     "name": "stdout",
     "output_type": "stream",
     "text": [
      "Hola\n",
      "------------------\n",
      "H\n",
      "o\n",
      "l\n",
      "a\n"
     ]
    }
   ],
   "source": [
    "# se pueden recorrer tambien variables, en este caso la variable b=Hola \n",
    "print(b)\n",
    "print(\"------------------\")\n",
    "for i in b:\n",
    "    print(i)"
   ]
  },
  {
   "cell_type": "code",
   "execution_count": 13,
   "id": "9d818a69",
   "metadata": {},
   "outputs": [
    {
     "name": "stdout",
     "output_type": "stream",
     "text": [
      "23\n",
      "54\n",
      "91\n",
      "65\n",
      "12\n",
      "75\n"
     ]
    }
   ],
   "source": [
    "# tambien permite recorrer listas \n",
    "c = [23,54,91,65,12,75]\n",
    "for i in c:\n",
    "    print(i)"
   ]
  },
  {
   "cell_type": "markdown",
   "id": "dc3be21b",
   "metadata": {},
   "source": [
    "### Condicionales if"
   ]
  },
  {
   "cell_type": "code",
   "execution_count": 14,
   "id": "2543aec5",
   "metadata": {},
   "outputs": [
    {
     "name": "stdout",
     "output_type": "stream",
     "text": [
      "el numero 23 es impar\n",
      "el numero 54 es par\n",
      "el numero 91 es impar\n",
      "el numero 65 es impar\n",
      "el numero 12 es par\n",
      "el numero 75 es impar\n"
     ]
    }
   ],
   "source": [
    "# el comando if/else nos permite ejecutar condiciones en el flujo del codigo\n",
    "# if declara una condicion y else abarca los casos que no satisfacen la condición\n",
    "# en este caso, el comando recorre la lista c y determina que numero es par o impar\n",
    "for i in c:\n",
    "    if(i%2==0):\n",
    "        print(\"el numero {} es par\".format(i))\n",
    "    else:\n",
    "        print(\"el numero {} es impar\".format(i))"
   ]
  },
  {
   "cell_type": "markdown",
   "id": "64337d3f",
   "metadata": {},
   "source": [
    "### bucle while "
   ]
  },
  {
   "cell_type": "code",
   "execution_count": 15,
   "id": "786f858b",
   "metadata": {},
   "outputs": [
    {
     "name": "stdout",
     "output_type": "stream",
     "text": [
      "se presenta el numero 23\n",
      "se presenta el numero 54\n",
      "se presenta el numero 91\n",
      "se presenta el numero 65\n",
      "finaliza al llegar al numero 12\n"
     ]
    }
   ],
   "source": [
    "#Este comando es similar al for, pero en lugar de generar una repeticion determinada, \n",
    "#este realiza repetidamente un comando hasta que se satisface una condición\n",
    "\n",
    "# en este caso se repite el comando hasta que encuentra el numero 12 en la lista\n",
    "i = 0\n",
    "while (c[i] != 12):\n",
    "    print(\"se presenta el numero {}\".format(c[i]))\n",
    "    i = i+1\n",
    "print(\"finaliza al llegar al numero {}\".format(c[i]))"
   ]
  },
  {
   "cell_type": "code",
   "execution_count": 16,
   "id": "50c57af9",
   "metadata": {},
   "outputs": [
    {
     "name": "stdout",
     "output_type": "stream",
     "text": [
      "2\n",
      "3\n",
      "4\n",
      "5\n",
      "6\n",
      "7\n",
      "8\n",
      "9\n",
      "10\n",
      "11\n"
     ]
    }
   ],
   "source": [
    "# Control de errores\n",
    "#imaginemos que tenemos un codigo, pero de este se espera que el algun momento determinado o indeterminado se ejecute un error\n",
    "#para evitar que este error limite el computo de nuestras ejecuciones, utilizamos el comando try, el cual ejecuta una instruccion\n",
    "#y si detecta un error, ejecuta el comando except, try y except son similares a if y else, solo que se ejecutan unicamente en funcion\n",
    "#a errores de ejecuccion\n",
    "\n",
    "lista = [1,2,3,4,\"5\",6,7,8,9,\"10\"]\n",
    "\n",
    "for i in lista:\n",
    "    try:\n",
    "        #este comando suma numeros, el cual deberia fallar en presencia de textos como \"5\" y \"10\"\n",
    "        print(i+1)\n",
    "    except:\n",
    "        #este comando se ejecuta si se presenta un error, por lo que al saber la naturaleza del error podemos \n",
    "        #modificar esta seccion para dar instrucciones de como arreglarlo\n",
    "        print(int(i)+1)"
   ]
  },
  {
   "cell_type": "markdown",
   "id": "e575fbb9",
   "metadata": {},
   "source": [
    "Estos comandos son la base de la programacion en python, por lo que a partir de ellos se suele configurar algoritmos de todo tipo, a lo largo del libro podremos ver algunos comandos adicionales que se estructuran mediante ciclos o condiciones.\n",
    "\n",
    "Hay un gran camino que recorrer y puede que veas unos que otros comandos intimidantes que te puedan asustar, pero no temas, es un proceso natural en la codificacion y estudio de datos y siempre podemos dar un paso atras para revisar que hicimos y como replicar los codigos a pequeña escala, recuerda que saber como funcionan las cosas es mas mportante que hacer que funcionen =D"
   ]
  },
  {
   "cell_type": "code",
   "execution_count": null,
   "id": "dd56426f",
   "metadata": {},
   "outputs": [],
   "source": []
  }
 ],
 "metadata": {
  "kernelspec": {
   "display_name": "Python 3 (ipykernel)",
   "language": "python",
   "name": "python3"
  },
  "language_info": {
   "codemirror_mode": {
    "name": "ipython",
    "version": 3
   },
   "file_extension": ".py",
   "mimetype": "text/x-python",
   "name": "python",
   "nbconvert_exporter": "python",
   "pygments_lexer": "ipython3",
   "version": "3.9.13"
  }
 },
 "nbformat": 4,
 "nbformat_minor": 5
}
